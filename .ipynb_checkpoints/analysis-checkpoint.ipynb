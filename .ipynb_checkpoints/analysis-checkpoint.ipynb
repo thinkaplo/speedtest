{
 "cells": [
  {
   "cell_type": "markdown",
   "id": "f5825ca0-5d4c-45a1-9960-e3acbd2a4bca",
   "metadata": {},
   "source": [
    "# **What are the differences between using *pandas*, *polars* or *csv* python package/module to do a basic ETL process?**\n",
    "We want to compare three methods of doing the following process in python:\n",
    "* Read a csv file and extract the data.\n",
    "* Add 3 new columns doing a basic transformation on each of them (Arithmetic, Text and Conditional)\n",
    "* Export a new csv file with the results and load it into a folder.\n",
    "\n",
    "This process runs 250 times for each method and each iteration gives as result the execution time of each task. \n"
   ]
  },
  {
   "cell_type": "code",
   "execution_count": 113,
   "id": "c568f18a-a05e-40cf-967e-e9de9eaba360",
   "metadata": {},
   "outputs": [],
   "source": [
    "import pandas as pd\n",
    "import numpy as np\n",
    "from pandas import Series\n",
    "from pandas import DataFrame\n",
    "from matplotlib import pyplot\n",
    "from statsmodels.graphics.gofplots import qqplot\n",
    "from scipy.stats import shapiro\n",
    "from scipy.stats import normaltest\n",
    "from scipy.stats import anderson"
   ]
  },
  {
   "cell_type": "markdown",
   "id": "f9128bb6-9cee-4025-8ceb-53d11b8354b3",
   "metadata": {},
   "source": [
    "# *Reading result of experiments:*\n"
   ]
  },
  {
   "cell_type": "code",
   "execution_count": 114,
   "id": "f420665e-3879-4eea-9eb1-0c39e42c2cda",
   "metadata": {},
   "outputs": [],
   "source": [
    "csv = pd.read_csv('results/results_csv.csv') \n",
    "pandas = pd.read_csv('results/results_pandas.csv')\n",
    "polars = pd.read_csv('results/results_polars.csv')\n",
    "\n",
    "csv = csv.round(decimals = 3)\n",
    "pandas = pandas.round(decimals = 3)\n",
    "polars = polars.round(decimals = 3)\n",
    "\n",
    "csv['Total_time']= csv.loc[:,'Load']+csv.loc[:,'Transformation']+csv.loc[:,'Writing']\n",
    "pandas['Total_time']= pandas.loc[:,'Load']+pandas.loc[:,'Transformation']+pandas.loc[:,'Writing']\n",
    "polars['Total_time']= polars.loc[:,'Load']+polars.loc[:,'Transformation']+polars.loc[:,'Writing']\n"
   ]
  },
  {
   "cell_type": "markdown",
   "id": "f6396208-d8f0-4e1c-95bf-2e9f6740dcc6",
   "metadata": {},
   "source": [
    "# **Results summary** "
   ]
  },
  {
   "cell_type": "code",
   "execution_count": 115,
   "id": "f0d918be-aaec-4db0-9bfb-6b7e1bb9ec97",
   "metadata": {},
   "outputs": [
    {
     "data": {
      "text/html": [
       "<div>\n",
       "<style scoped>\n",
       "    .dataframe tbody tr th:only-of-type {\n",
       "        vertical-align: middle;\n",
       "    }\n",
       "\n",
       "    .dataframe tbody tr th {\n",
       "        vertical-align: top;\n",
       "    }\n",
       "\n",
       "    .dataframe thead th {\n",
       "        text-align: right;\n",
       "    }\n",
       "</style>\n",
       "<table border=\"1\" class=\"dataframe\">\n",
       "  <thead>\n",
       "    <tr style=\"text-align: right;\">\n",
       "      <th></th>\n",
       "      <th>Load</th>\n",
       "      <th>Transformation</th>\n",
       "      <th>Writing</th>\n",
       "    </tr>\n",
       "  </thead>\n",
       "  <tbody>\n",
       "    <tr>\n",
       "      <th>count</th>\n",
       "      <td>250.000000</td>\n",
       "      <td>250.000000</td>\n",
       "      <td>250.000000</td>\n",
       "    </tr>\n",
       "    <tr>\n",
       "      <th>mean</th>\n",
       "      <td>17.983528</td>\n",
       "      <td>6.682200</td>\n",
       "      <td>30.475208</td>\n",
       "    </tr>\n",
       "    <tr>\n",
       "      <th>std</th>\n",
       "      <td>0.151973</td>\n",
       "      <td>0.018228</td>\n",
       "      <td>0.123199</td>\n",
       "    </tr>\n",
       "    <tr>\n",
       "      <th>min</th>\n",
       "      <td>17.667000</td>\n",
       "      <td>6.631000</td>\n",
       "      <td>30.263000</td>\n",
       "    </tr>\n",
       "    <tr>\n",
       "      <th>25%</th>\n",
       "      <td>17.875500</td>\n",
       "      <td>6.672000</td>\n",
       "      <td>30.368000</td>\n",
       "    </tr>\n",
       "    <tr>\n",
       "      <th>50%</th>\n",
       "      <td>17.981500</td>\n",
       "      <td>6.681000</td>\n",
       "      <td>30.476500</td>\n",
       "    </tr>\n",
       "    <tr>\n",
       "      <th>75%</th>\n",
       "      <td>18.078000</td>\n",
       "      <td>6.689750</td>\n",
       "      <td>30.569000</td>\n",
       "    </tr>\n",
       "    <tr>\n",
       "      <th>max</th>\n",
       "      <td>18.469000</td>\n",
       "      <td>6.753000</td>\n",
       "      <td>30.861000</td>\n",
       "    </tr>\n",
       "  </tbody>\n",
       "</table>\n",
       "</div>"
      ],
      "text/plain": [
       "             Load  Transformation     Writing\n",
       "count  250.000000      250.000000  250.000000\n",
       "mean    17.983528        6.682200   30.475208\n",
       "std      0.151973        0.018228    0.123199\n",
       "min     17.667000        6.631000   30.263000\n",
       "25%     17.875500        6.672000   30.368000\n",
       "50%     17.981500        6.681000   30.476500\n",
       "75%     18.078000        6.689750   30.569000\n",
       "max     18.469000        6.753000   30.861000"
      ]
     },
     "execution_count": 115,
     "metadata": {},
     "output_type": "execute_result"
    }
   ],
   "source": [
    "csv.describe()"
   ]
  },
  {
   "cell_type": "markdown",
   "id": "b04b82aa-1664-44b7-bcb9-6db77aee5271",
   "metadata": {},
   "source": [
    "## **Data analysis** \n",
    "give to variable the array you want to analyze"
   ]
  },
  {
   "cell_type": "code",
   "execution_count": 116,
   "id": "7a628126-eacb-4c75-9633-c0bfa06da896",
   "metadata": {},
   "outputs": [],
   "source": [
    "variable = pandas.Writing"
   ]
  },
  {
   "cell_type": "markdown",
   "id": "de4fb6b2-3595-4fa7-aa6d-87833a7ca4ec",
   "metadata": {},
   "source": [
    "# *Descriptive analysis:*"
   ]
  },
  {
   "cell_type": "markdown",
   "id": "089d2539-2e76-4f2c-a6ff-2d0c7a17ceb8",
   "metadata": {},
   "source": [
    "*Histogram:*"
   ]
  },
  {
   "cell_type": "code",
   "execution_count": 117,
   "id": "c5d9c69d-0671-400b-b72c-fcdfa046338d",
   "metadata": {},
   "outputs": [
    {
     "data": {
      "image/png": "[encoded data removed]",
      "text/plain": [
       "<Figure size 640x480 with 1 Axes>"
      ]
     },
     "metadata": {},
     "output_type": "display_data"
    }
   ],
   "source": [
    "pyplot.hist(variable)\n",
    "pyplot.show()"
   ]
  },
  {
   "cell_type": "markdown",
   "id": "6d26a78c-9289-4dc8-9aed-fb710bc23c64",
   "metadata": {},
   "source": [
    "*Boxplot:*"
   ]
  },
  {
   "cell_type": "code",
   "execution_count": 118,
   "id": "bdbf3667-6e2e-474a-8841-0df296b5ee5e",
   "metadata": {},
   "outputs": [
    {
     "data": {
      "image/png": "[encoded data removed]",
      "text/plain": [
       "<Figure size 640x480 with 1 Axes>"
      ]
     },
     "metadata": {},
     "output_type": "display_data"
    }
   ],
   "source": [
    "pyplot.boxplot([variable],labels=['Load'],vert=0,patch_artist=True)\n",
    "pyplot.show()"
   ]
  },
  {
   "cell_type": "markdown",
   "id": "54ca8ae4-e493-4bb7-9218-8532eb57303d",
   "metadata": {},
   "source": [
    "*QQplot:*"
   ]
  },
  {
   "cell_type": "code",
   "execution_count": 119,
   "id": "4b4ff5b8-bc05-43da-9152-059dcb6346a2",
   "metadata": {},
   "outputs": [
    {
     "data": {
      "image/png": "[encoded data removed]",
      "text/plain": [
       "<Figure size 640x480 with 1 Axes>"
      ]
     },
     "metadata": {},
     "output_type": "display_data"
    }
   ],
   "source": [
    "qqplot(variable,line='s')\n",
    "pyplot.show()"
   ]
  },
  {
   "cell_type": "markdown",
   "id": "9646a4b2-2e38-4c34-8244-86e85324687f",
   "metadata": {},
   "source": [
    "# *Normality tests:*"
   ]
  },
  {
   "cell_type": "code",
   "execution_count": 120,
   "id": "56d50c64-4bea-44e8-bbd0-b7467ea07e65",
   "metadata": {},
   "outputs": [
    {
     "name": "stdout",
     "output_type": "stream",
     "text": [
      "Statistics=0.989, p=0.065\n",
      "Sample looks Gaussian (fail to reject H0)\n"
     ]
    }
   ],
   "source": [
    "# (H0) Null: data is not normally distributed\n",
    "# (H1) Alt: data is normally distributed\n",
    "# Shapiro-Wilk Test\n",
    "stat, p = shapiro(variable)\n",
    "print('Statistics=%.3f, p=%.3f' % (stat, p))\n",
    "# interpret\n",
    "alpha = 0.05\n",
    "if p > alpha:\n",
    "    print('Sample looks Gaussian (fail to reject H0)')\n",
    "else:\n",
    "    print('Sample doest not look Gaussian (reject H0)')"
   ]
  },
  {
   "cell_type": "code",
   "execution_count": 121,
   "id": "a05c0f46-9053-419c-a6b9-e4e100ce63a2",
   "metadata": {},
   "outputs": [
    {
     "name": "stdout",
     "output_type": "stream",
     "text": [
      "Statistics=5.320, p=0.070\n",
      "Sample looks Gaussian (fail to reject H0)\n"
     ]
    }
   ],
   "source": [
    "# D'Agostino and Pearson's test\n",
    "# normality test\n",
    "stat, p = normaltest(variable)\n",
    "print('Statistics=%.3f, p=%.3f' % (stat, p))\n",
    "# interpret\n",
    "alpha = 0.05\n",
    "if p > alpha:\n",
    "    print('Sample looks Gaussian (fail to reject H0)')\n",
    "else:\n",
    "    print('Sample doest not look Gaussian (reject H0)')"
   ]
  },
  {
   "cell_type": "code",
   "execution_count": 122,
   "id": "604c29fa-0308-4f7b-bbad-9a81f6ada623",
   "metadata": {},
   "outputs": [
    {
     "name": "stdout",
     "output_type": "stream",
     "text": [
      "Statistic: 0.606\n",
      "15.000: 0.567, data does notlook normal (reject H0)\n",
      "10.000: 0.646, data looks normal (fail to reject H0)\n",
      "5.000: 0.775, data looks normal (fail to reject H0)\n",
      "2.500: 0.904, data looks normal (fail to reject H0)\n",
      "1.000: 1.075, data looks normal (fail to reject H0)\n"
     ]
    }
   ],
   "source": [
    "# Anderson-Darling Test\n",
    "# normality test\n",
    "result = anderson(variable)\n",
    "print('Statistic: %.3f' % result.statistic)\n",
    "p = 0\n",
    "for i in range(len(result.critical_values)):\n",
    "    sl, cv = result.significance_level[i], result.critical_values[i]\n",
    "    if result.statistic < result.critical_values[i]:\n",
    "        print('%.3f: %.3f, data looks normal (fail to reject H0)' % (sl, cv))\n",
    "    else:\n",
    "        print('%.3f: %.3f, data does notlook normal (reject H0)' % (sl, cv))\n",
    "        "
   ]
  },
  {
   "cell_type": "code",
   "execution_count": null,
   "id": "00bcb481-c352-4c96-9c1f-a4962f61cc47",
   "metadata": {},
   "outputs": [],
   "source": []
  }
 ],
 "metadata": {
  "kernelspec": {
   "display_name": "Python 3 (ipykernel)",
   "language": "python",
   "name": "python3"
  },
  "language_info": {
   "codemirror_mode": {
    "name": "ipython",
    "version": 3
   },
   "file_extension": ".py",
   "mimetype": "text/x-python",
   "name": "python",
   "nbconvert_exporter": "python",
   "pygments_lexer": "ipython3",
   "version": "3.11.4"
  }
 },
 "nbformat": 4,
 "nbformat_minor": 5
}
